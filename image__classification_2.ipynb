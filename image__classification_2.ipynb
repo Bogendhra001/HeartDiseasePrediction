{
  "cells": [
    {
      "cell_type": "markdown",
      "metadata": {
        "id": "7iygPtBgyYkI"
      },
      "source": [
        "<a id=\"3\"></a>\n",
        "<font color=\"blue\" size=+2.5><b>2.1 Installation of Libraries </b></font>"
      ]
    },
    {
      "cell_type": "markdown",
      "metadata": {
        "id": "xXBhDXtSyYkI"
      },
      "source": [
        "## !pip install fastai"
      ]
    },
    {
      "cell_type": "markdown",
      "metadata": {
        "id": "mPyIsQVIyYkI"
      },
      "source": [
        "<a id=\"4\"></a>\n",
        "<font color=\"blue\" size=+2.5><b>2.2 Library Import</b></font>"
      ]
    },
    {
      "cell_type": "code",
      "execution_count": null,
      "metadata": {
        "id": "nPSUN-uqyYkJ"
      },
      "outputs": [],
      "source": [
        "#importing libraries\n",
        "from fastai import *\n",
        "from fastai.vision import *\n",
        "from fastai.metrics import error_rate\n",
        "import os\n",
        "import pandas as pd\n",
        "import numpy as np\n",
        "import matplotlib.pyplot as plt\n",
        "import seaborn as sns\n",
        "import cv2\n",
        "from pathlib import Path\n",
        "from fastai.data.transforms import parent_label\n",
        "from fastai.data.block import DataBlock, CategoryBlock\n",
        "from fastai.data.transforms import get_image_files, RandomSplitter\n",
        "from fastai.vision.augment import aug_transforms, Normalize, Resize\n",
        "from fastai.vision.data import ImageBlock, ImageDataLoaders\n",
        "from fastai.vision.augment import aug_transforms\n",
        "from fastai.vision.all import cnn_learner, accuracy,models\n",
        "from fastai.learner import load_learner"
      ]
    },
    {
      "cell_type": "code",
      "execution_count": null,
      "metadata": {
        "colab": {
          "base_uri": "https://localhost:8080/"
        },
        "id": "0gR-_f2CzZmu",
        "outputId": "9182fc5e-e21b-4366-9f88-05ab7bccdeea"
      },
      "outputs": [
        {
          "output_type": "stream",
          "name": "stdout",
          "text": [
            "Mounted at /content/drive\n"
          ]
        }
      ],
      "source": [
        "from google.colab import drive\n",
        "drive.mount('/content/drive')"
      ]
    },
    {
      "cell_type": "markdown",
      "metadata": {
        "id": "jSdGd3E7yYkJ"
      },
      "source": [
        "<a id=\"5\"></a>\n",
        "<font color=\"blue\" size=+2.5><b>3.1 Setting up path for training data</b></font>"
      ]
    },
    {
      "cell_type": "markdown",
      "metadata": {
        "id": "oyHlr406yYkJ"
      },
      "source": [
        "**Point to be Noted: Number of elements in a list of path is same as number of classes you have**"
      ]
    },
    {
      "cell_type": "code",
      "execution_count": null,
      "metadata": {
        "colab": {
          "base_uri": "https://localhost:8080/"
        },
        "id": "W1u1kNkmyYkK",
        "outputId": "95f4d547-696d-463d-d2f6-2762e363a7a0"
      },
      "outputs": [
        {
          "output_type": "execute_result",
          "data": {
            "text/plain": [
              "(#2) [Path('/content/drive/MyDrive/NNcasestudy/ultrasound breast classification/train/benign'),Path('/content/drive/MyDrive/NNcasestudy/ultrasound breast classification/train/malignant')]"
            ]
          },
          "metadata": {},
          "execution_count": 3
        }
      ],
      "source": [
        "x  = '/content/drive/MyDrive/NNcasestudy/ultrasound breast classification/train'\n",
        "path = Path(x)\n",
        "path.ls()"
      ]
    },
    {
      "cell_type": "code",
      "execution_count": null,
      "metadata": {
        "id": "U5MeWE30yYkK"
      },
      "outputs": [],
      "source": [
        "np.random.seed(40)\n",
        "# data = ImageDataBunch.from_folder(path, train = '.', valid_pct=0.2,\n",
        "#                                   ds_tfms=get_transforms(), size=224,\n",
        "#                                   num_workers=4).normalize(imagenet_stats)\n",
        "\n",
        "imagenet_stats = ([0.485, 0.456, 0.406], [0.229, 0.224, 0.225])\n",
        "\n",
        "data = DataBlock(\n",
        "    blocks=(ImageBlock, CategoryBlock),\n",
        "    get_items=get_image_files,\n",
        "    splitter=RandomSplitter(valid_pct=0.2, seed=42),\n",
        "    get_y=parent_label,\n",
        "    item_tfms=Resize(460),\n",
        "    batch_tfms=[*aug_transforms(size=224), Normalize.from_stats(*imagenet_stats)]\n",
        ")"
      ]
    },
    {
      "cell_type": "markdown",
      "metadata": {
        "id": "dJzjexc6yYkL"
      },
      "source": [
        "<a id=\"9\"></a>\n",
        "<font color=\"blue\" size=+2.5><b>4.1 Create Model</b></font>\n",
        "<br/>\n"
      ]
    },
    {
      "cell_type": "code",
      "execution_count": null,
      "metadata": {
        "id": "hW-A1_SPyYkL"
      },
      "outputs": [],
      "source": [
        "dls = data.dataloaders(path)\n",
        "\n",
        "\n",
        "n_out = dls.c\n",
        "\n",
        "# learn = cnn_learner(dls, models.resnet18, metrics=[accuracy], model_dir=Path('/content/drive/MyDrive/NNcasestudy/resnet18-5c106cde.pth'), path=Path(\".\"))\n",
        "\n"
      ]
    },
    {
      "cell_type": "markdown",
      "metadata": {
        "id": "sKppt05ufAPD"
      },
      "source": []
    },
    {
      "cell_type": "code",
      "execution_count": null,
      "metadata": {
        "id": "_vToagrOHgsO",
        "colab": {
          "base_uri": "https://localhost:8080/"
        },
        "outputId": "3c559de8-27dd-495f-8de5-554d40a42c6f"
      },
      "outputs": [
        {
          "output_type": "stream",
          "name": "stderr",
          "text": [
            "/usr/local/lib/python3.10/dist-packages/fastai/vision/learner.py:288: UserWarning: `cnn_learner` has been renamed to `vision_learner` -- please update your code\n",
            "  warn(\"`cnn_learner` has been renamed to `vision_learner` -- please update your code\")\n",
            "/usr/local/lib/python3.10/dist-packages/torchvision/models/_utils.py:208: UserWarning: The parameter 'pretrained' is deprecated since 0.13 and may be removed in the future, please use 'weights' instead.\n",
            "  warnings.warn(\n",
            "/usr/local/lib/python3.10/dist-packages/torchvision/models/_utils.py:223: UserWarning: Arguments other than a weight enum or `None` for 'weights' are deprecated since 0.13 and may be removed in the future. The current behavior is equivalent to passing `weights=ResNet18_Weights.IMAGENET1K_V1`. You can also use `weights=ResNet18_Weights.DEFAULT` to get the most up-to-date weights.\n",
            "  warnings.warn(msg)\n",
            "Downloading: \"https://download.pytorch.org/models/resnet18-f37072fd.pth\" to /root/.cache/torch/hub/checkpoints/resnet18-f37072fd.pth\n",
            "100%|██████████| 44.7M/44.7M [00:00<00:00, 64.7MB/s]\n"
          ]
        }
      ],
      "source": [
        "learn = cnn_learner(dls, models.resnet18, metrics=[accuracy], model_dir=Path('/content/drive/MyDrive/NNcasestudy/model10/'),path=Path(\".\"))\n"
      ]
    },
    {
      "cell_type": "markdown",
      "metadata": {
        "id": "plTLZcK7yYkM"
      },
      "source": [
        "<a id=\"10\"></a>\n",
        "<font color=\"blue\" size=+2.5><b>4.2 Finding LR</b></font>\n",
        "<br/>"
      ]
    },
    {
      "cell_type": "code",
      "execution_count": null,
      "metadata": {
        "id": "6KRFBf-cXQLP",
        "colab": {
          "base_uri": "https://localhost:8080/",
          "height": 471
        },
        "outputId": "c9e93a3f-4240-45fc-86c8-148c38573495"
      },
      "outputs": [
        {
          "output_type": "display_data",
          "data": {
            "text/plain": [
              "<IPython.core.display.HTML object>"
            ],
            "text/html": [
              "\n",
              "<style>\n",
              "    /* Turns off some styling */\n",
              "    progress {\n",
              "        /* gets rid of default border in Firefox and Opera. */\n",
              "        border: none;\n",
              "        /* Needs to be in here for Safari polyfill so background images work as expected. */\n",
              "        background-size: auto;\n",
              "    }\n",
              "    progress:not([value]), progress:not([value])::-webkit-progress-bar {\n",
              "        background: repeating-linear-gradient(45deg, #7e7e7e, #7e7e7e 10px, #5c5c5c 10px, #5c5c5c 20px);\n",
              "    }\n",
              "    .progress-bar-interrupted, .progress-bar-interrupted::-webkit-progress-bar {\n",
              "        background: #F44336;\n",
              "    }\n",
              "</style>\n"
            ]
          },
          "metadata": {}
        },
        {
          "output_type": "display_data",
          "data": {
            "text/plain": [
              "<IPython.core.display.HTML object>"
            ],
            "text/html": []
          },
          "metadata": {}
        },
        {
          "output_type": "stream",
          "name": "stdout",
          "text": [
            "mv: cannot stat 'lr.json': No such file or directory\n"
          ]
        },
        {
          "output_type": "display_data",
          "data": {
            "text/plain": [
              "<Figure size 640x480 with 1 Axes>"
            ],
            "image/png": "[encoded data removed]"
          },
          "metadata": {}
        }
      ],
      "source": [
        "import json\n",
        "from fastai.learner import *\n",
        "\n",
        "\n",
        "# Your LR value\n",
        "learn.lr_find()\n",
        "\n",
        "lr_value = learn.recorder.lrs[np.argmin(learn.recorder.losses)]\n",
        "\n",
        "# Save it to a JSON file\n",
        "lr_data = {\"learning_rate\": lr_value}\n",
        "with open(\"lr1.json\", \"w\") as json_file:\n",
        "    json.dump(lr_data, json_file)\n",
        "\n",
        "# Move the file to your Google Drive\n",
        "!mv lr.json '/content/drive/MyDrive/NNcasestudy/'\n",
        "\n"
      ]
    },
    {
      "cell_type": "markdown",
      "metadata": {
        "id": "AaqtR4cGyYkM"
      },
      "source": [
        "<a id=\"11\"></a>\n",
        "<font color=\"blue\" size=+2.5><b>4.3 Train Model</b></font>\n",
        "<br/>"
      ]
    },
    {
      "cell_type": "code",
      "execution_count": null,
      "metadata": {
        "colab": {
          "base_uri": "https://localhost:8080/",
          "height": 676
        },
        "id": "IsJzJ6j7yYkM",
        "outputId": "0de127fd-56d7-484b-e3e1-a61c26a2cc78"
      },
      "outputs": [
        {
          "output_type": "display_data",
          "data": {
            "text/plain": [
              "<IPython.core.display.HTML object>"
            ],
            "text/html": [
              "\n",
              "<style>\n",
              "    /* Turns off some styling */\n",
              "    progress {\n",
              "        /* gets rid of default border in Firefox and Opera. */\n",
              "        border: none;\n",
              "        /* Needs to be in here for Safari polyfill so background images work as expected. */\n",
              "        background-size: auto;\n",
              "    }\n",
              "    progress:not([value]), progress:not([value])::-webkit-progress-bar {\n",
              "        background: repeating-linear-gradient(45deg, #7e7e7e, #7e7e7e 10px, #5c5c5c 10px, #5c5c5c 20px);\n",
              "    }\n",
              "    .progress-bar-interrupted, .progress-bar-interrupted::-webkit-progress-bar {\n",
              "        background: #F44336;\n",
              "    }\n",
              "</style>\n"
            ]
          },
          "metadata": {}
        },
        {
          "output_type": "display_data",
          "data": {
            "text/plain": [
              "<IPython.core.display.HTML object>"
            ],
            "text/html": [
              "<table border=\"1\" class=\"dataframe\">\n",
              "  <thead>\n",
              "    <tr style=\"text-align: left;\">\n",
              "      <th>epoch</th>\n",
              "      <th>train_loss</th>\n",
              "      <th>valid_loss</th>\n",
              "      <th>accuracy</th>\n",
              "      <th>time</th>\n",
              "    </tr>\n",
              "  </thead>\n",
              "  <tbody>\n",
              "    <tr>\n",
              "      <td>0</td>\n",
              "      <td>0.534765</td>\n",
              "      <td>0.352354</td>\n",
              "      <td>0.867855</td>\n",
              "      <td>02:41</td>\n",
              "    </tr>\n",
              "    <tr>\n",
              "      <td>1</td>\n",
              "      <td>0.404536</td>\n",
              "      <td>0.300291</td>\n",
              "      <td>0.935464</td>\n",
              "      <td>01:11</td>\n",
              "    </tr>\n",
              "    <tr>\n",
              "      <td>2</td>\n",
              "      <td>0.291430</td>\n",
              "      <td>0.082964</td>\n",
              "      <td>0.964352</td>\n",
              "      <td>01:12</td>\n",
              "    </tr>\n",
              "    <tr>\n",
              "      <td>3</td>\n",
              "      <td>0.310908</td>\n",
              "      <td>0.582104</td>\n",
              "      <td>0.893669</td>\n",
              "      <td>01:10</td>\n",
              "    </tr>\n",
              "    <tr>\n",
              "      <td>4</td>\n",
              "      <td>0.590517</td>\n",
              "      <td>0.212825</td>\n",
              "      <td>0.947757</td>\n",
              "      <td>01:11</td>\n",
              "    </tr>\n",
              "    <tr>\n",
              "      <td>5</td>\n",
              "      <td>0.246768</td>\n",
              "      <td>0.057184</td>\n",
              "      <td>0.979103</td>\n",
              "      <td>01:10</td>\n",
              "    </tr>\n",
              "    <tr>\n",
              "      <td>6</td>\n",
              "      <td>0.315711</td>\n",
              "      <td>0.286565</td>\n",
              "      <td>0.943454</td>\n",
              "      <td>01:11</td>\n",
              "    </tr>\n",
              "    <tr>\n",
              "      <td>7</td>\n",
              "      <td>0.398256</td>\n",
              "      <td>0.661559</td>\n",
              "      <td>0.936079</td>\n",
              "      <td>01:10</td>\n",
              "    </tr>\n",
              "    <tr>\n",
              "      <td>8</td>\n",
              "      <td>0.339407</td>\n",
              "      <td>0.247680</td>\n",
              "      <td>0.954518</td>\n",
              "      <td>01:11</td>\n",
              "    </tr>\n",
              "    <tr>\n",
              "      <td>9</td>\n",
              "      <td>0.228735</td>\n",
              "      <td>0.048383</td>\n",
              "      <td>0.984634</td>\n",
              "      <td>01:13</td>\n",
              "    </tr>\n",
              "    <tr>\n",
              "      <td>10</td>\n",
              "      <td>0.131883</td>\n",
              "      <td>0.043160</td>\n",
              "      <td>0.988322</td>\n",
              "      <td>01:11</td>\n",
              "    </tr>\n",
              "    <tr>\n",
              "      <td>11</td>\n",
              "      <td>0.080966</td>\n",
              "      <td>0.015037</td>\n",
              "      <td>0.995083</td>\n",
              "      <td>01:13</td>\n",
              "    </tr>\n",
              "    <tr>\n",
              "      <td>12</td>\n",
              "      <td>0.086074</td>\n",
              "      <td>0.039520</td>\n",
              "      <td>0.989551</td>\n",
              "      <td>01:11</td>\n",
              "    </tr>\n",
              "    <tr>\n",
              "      <td>13</td>\n",
              "      <td>0.069531</td>\n",
              "      <td>0.020312</td>\n",
              "      <td>0.993239</td>\n",
              "      <td>01:14</td>\n",
              "    </tr>\n",
              "    <tr>\n",
              "      <td>14</td>\n",
              "      <td>0.069006</td>\n",
              "      <td>5.781213</td>\n",
              "      <td>0.981561</td>\n",
              "      <td>01:11</td>\n",
              "    </tr>\n",
              "    <tr>\n",
              "      <td>15</td>\n",
              "      <td>0.049784</td>\n",
              "      <td>0.020990</td>\n",
              "      <td>0.993239</td>\n",
              "      <td>01:11</td>\n",
              "    </tr>\n",
              "    <tr>\n",
              "      <td>16</td>\n",
              "      <td>0.048608</td>\n",
              "      <td>0.014637</td>\n",
              "      <td>0.995083</td>\n",
              "      <td>01:13</td>\n",
              "    </tr>\n",
              "    <tr>\n",
              "      <td>17</td>\n",
              "      <td>0.037985</td>\n",
              "      <td>0.012279</td>\n",
              "      <td>0.996312</td>\n",
              "      <td>01:10</td>\n",
              "    </tr>\n",
              "    <tr>\n",
              "      <td>18</td>\n",
              "      <td>0.031022</td>\n",
              "      <td>0.013415</td>\n",
              "      <td>0.996312</td>\n",
              "      <td>01:13</td>\n",
              "    </tr>\n",
              "    <tr>\n",
              "      <td>19</td>\n",
              "      <td>0.033470</td>\n",
              "      <td>0.012793</td>\n",
              "      <td>0.995698</td>\n",
              "      <td>01:12</td>\n",
              "    </tr>\n",
              "  </tbody>\n",
              "</table>"
            ]
          },
          "metadata": {}
        }
      ],
      "source": [
        "lr1 = 1e-3\n",
        "lr2 = 1e-1\n",
        "learn.fit_one_cycle(20,slice(lr1,lr2))\n"
      ]
    },
    {
      "cell_type": "code",
      "execution_count": null,
      "metadata": {
        "id": "RodYpl8FbQLd"
      },
      "outputs": [],
      "source": [
        "\n"
      ]
    },
    {
      "cell_type": "markdown",
      "metadata": {
        "id": "q781ON0tyYkM"
      },
      "source": [
        "<a id=\"12\"></a>\n",
        "<font color=\"blue\" size=+2.5><b>4.4 Hyper Parameter Tuning</b></font>\n"
      ]
    },
    {
      "cell_type": "code",
      "execution_count": null,
      "metadata": {
        "colab": {
          "base_uri": "https://localhost:8080/",
          "height": 676
        },
        "id": "u8ImBwOyyYkM",
        "outputId": "e6f54520-cdba-49ea-ee4c-f9e057d9b3d1"
      },
      "outputs": [
        {
          "output_type": "display_data",
          "data": {
            "text/plain": [
              "<IPython.core.display.HTML object>"
            ],
            "text/html": [
              "\n",
              "<style>\n",
              "    /* Turns off some styling */\n",
              "    progress {\n",
              "        /* gets rid of default border in Firefox and Opera. */\n",
              "        border: none;\n",
              "        /* Needs to be in here for Safari polyfill so background images work as expected. */\n",
              "        background-size: auto;\n",
              "    }\n",
              "    progress:not([value]), progress:not([value])::-webkit-progress-bar {\n",
              "        background: repeating-linear-gradient(45deg, #7e7e7e, #7e7e7e 10px, #5c5c5c 10px, #5c5c5c 20px);\n",
              "    }\n",
              "    .progress-bar-interrupted, .progress-bar-interrupted::-webkit-progress-bar {\n",
              "        background: #F44336;\n",
              "    }\n",
              "</style>\n"
            ]
          },
          "metadata": {}
        },
        {
          "output_type": "display_data",
          "data": {
            "text/plain": [
              "<IPython.core.display.HTML object>"
            ],
            "text/html": [
              "<table border=\"1\" class=\"dataframe\">\n",
              "  <thead>\n",
              "    <tr style=\"text-align: left;\">\n",
              "      <th>epoch</th>\n",
              "      <th>train_loss</th>\n",
              "      <th>valid_loss</th>\n",
              "      <th>accuracy</th>\n",
              "      <th>time</th>\n",
              "    </tr>\n",
              "  </thead>\n",
              "  <tbody>\n",
              "    <tr>\n",
              "      <td>0</td>\n",
              "      <td>0.037316</td>\n",
              "      <td>0.019952</td>\n",
              "      <td>0.993239</td>\n",
              "      <td>01:21</td>\n",
              "    </tr>\n",
              "    <tr>\n",
              "      <td>1</td>\n",
              "      <td>0.050320</td>\n",
              "      <td>0.069978</td>\n",
              "      <td>0.982176</td>\n",
              "      <td>01:14</td>\n",
              "    </tr>\n",
              "    <tr>\n",
              "      <td>2</td>\n",
              "      <td>0.057626</td>\n",
              "      <td>0.028686</td>\n",
              "      <td>0.988937</td>\n",
              "      <td>01:15</td>\n",
              "    </tr>\n",
              "    <tr>\n",
              "      <td>3</td>\n",
              "      <td>0.053755</td>\n",
              "      <td>0.063551</td>\n",
              "      <td>0.979103</td>\n",
              "      <td>01:13</td>\n",
              "    </tr>\n",
              "    <tr>\n",
              "      <td>4</td>\n",
              "      <td>0.052682</td>\n",
              "      <td>0.019790</td>\n",
              "      <td>0.993239</td>\n",
              "      <td>01:14</td>\n",
              "    </tr>\n",
              "    <tr>\n",
              "      <td>5</td>\n",
              "      <td>0.043570</td>\n",
              "      <td>0.018877</td>\n",
              "      <td>0.992010</td>\n",
              "      <td>01:15</td>\n",
              "    </tr>\n",
              "    <tr>\n",
              "      <td>6</td>\n",
              "      <td>0.039677</td>\n",
              "      <td>0.040727</td>\n",
              "      <td>0.986478</td>\n",
              "      <td>01:14</td>\n",
              "    </tr>\n",
              "    <tr>\n",
              "      <td>7</td>\n",
              "      <td>0.032393</td>\n",
              "      <td>0.032938</td>\n",
              "      <td>0.988322</td>\n",
              "      <td>01:14</td>\n",
              "    </tr>\n",
              "    <tr>\n",
              "      <td>8</td>\n",
              "      <td>0.028887</td>\n",
              "      <td>0.039052</td>\n",
              "      <td>0.986478</td>\n",
              "      <td>01:12</td>\n",
              "    </tr>\n",
              "    <tr>\n",
              "      <td>9</td>\n",
              "      <td>0.027856</td>\n",
              "      <td>0.318102</td>\n",
              "      <td>0.988937</td>\n",
              "      <td>01:14</td>\n",
              "    </tr>\n",
              "    <tr>\n",
              "      <td>10</td>\n",
              "      <td>0.024147</td>\n",
              "      <td>0.010622</td>\n",
              "      <td>0.994468</td>\n",
              "      <td>01:12</td>\n",
              "    </tr>\n",
              "    <tr>\n",
              "      <td>11</td>\n",
              "      <td>0.015931</td>\n",
              "      <td>0.010172</td>\n",
              "      <td>0.996312</td>\n",
              "      <td>01:13</td>\n",
              "    </tr>\n",
              "    <tr>\n",
              "      <td>12</td>\n",
              "      <td>0.014024</td>\n",
              "      <td>0.009160</td>\n",
              "      <td>0.994468</td>\n",
              "      <td>01:11</td>\n",
              "    </tr>\n",
              "    <tr>\n",
              "      <td>13</td>\n",
              "      <td>0.016864</td>\n",
              "      <td>0.007103</td>\n",
              "      <td>0.996927</td>\n",
              "      <td>01:11</td>\n",
              "    </tr>\n",
              "    <tr>\n",
              "      <td>14</td>\n",
              "      <td>0.015782</td>\n",
              "      <td>0.007475</td>\n",
              "      <td>0.996312</td>\n",
              "      <td>01:13</td>\n",
              "    </tr>\n",
              "    <tr>\n",
              "      <td>15</td>\n",
              "      <td>0.013781</td>\n",
              "      <td>0.007088</td>\n",
              "      <td>0.996927</td>\n",
              "      <td>01:12</td>\n",
              "    </tr>\n",
              "    <tr>\n",
              "      <td>16</td>\n",
              "      <td>0.013358</td>\n",
              "      <td>0.006830</td>\n",
              "      <td>0.996927</td>\n",
              "      <td>01:14</td>\n",
              "    </tr>\n",
              "    <tr>\n",
              "      <td>17</td>\n",
              "      <td>0.011788</td>\n",
              "      <td>0.007077</td>\n",
              "      <td>0.998156</td>\n",
              "      <td>01:12</td>\n",
              "    </tr>\n",
              "    <tr>\n",
              "      <td>18</td>\n",
              "      <td>0.012090</td>\n",
              "      <td>0.006539</td>\n",
              "      <td>0.996927</td>\n",
              "      <td>01:14</td>\n",
              "    </tr>\n",
              "    <tr>\n",
              "      <td>19</td>\n",
              "      <td>0.012316</td>\n",
              "      <td>0.006532</td>\n",
              "      <td>0.997541</td>\n",
              "      <td>01:12</td>\n",
              "    </tr>\n",
              "  </tbody>\n",
              "</table>"
            ]
          },
          "metadata": {}
        }
      ],
      "source": [
        "learn.unfreeze()\n",
        "learn.fit_one_cycle(15,slice(1e-4,1e-3))\n"
      ]
    },
    {
      "cell_type": "code",
      "source": [
        "from fastai.learner import load_learner\n",
        "model_path=Path('/content/drive/MyDrive/NNcasestudy/model10/trained_model')\n",
        "# Load the model from Google Drive\n",
        "learn = load_learner(model_path)"
      ],
      "metadata": {
        "id": "ab1Jq7HL7qjm"
      },
      "execution_count": null,
      "outputs": []
    },
    {
      "cell_type": "markdown",
      "source": [
        "# **Prediction**"
      ],
      "metadata": {
        "id": "ZnsMH08EL-2R"
      }
    },
    {
      "cell_type": "code",
      "execution_count": null,
      "metadata": {
        "colab": {
          "base_uri": "https://localhost:8080/",
          "height": 34
        },
        "id": "MOxhIIV2yYkN",
        "outputId": "6f89750a-8d81-4ebc-c7a7-1ee8f3207dbf"
      },
      "outputs": [
        {
          "output_type": "display_data",
          "data": {
            "text/plain": [
              "<IPython.core.display.HTML object>"
            ],
            "text/html": [
              "\n",
              "<style>\n",
              "    /* Turns off some styling */\n",
              "    progress {\n",
              "        /* gets rid of default border in Firefox and Opera. */\n",
              "        border: none;\n",
              "        /* Needs to be in here for Safari polyfill so background images work as expected. */\n",
              "        background-size: auto;\n",
              "    }\n",
              "    progress:not([value]), progress:not([value])::-webkit-progress-bar {\n",
              "        background: repeating-linear-gradient(45deg, #7e7e7e, #7e7e7e 10px, #5c5c5c 10px, #5c5c5c 20px);\n",
              "    }\n",
              "    .progress-bar-interrupted, .progress-bar-interrupted::-webkit-progress-bar {\n",
              "        background: #F44336;\n",
              "    }\n",
              "</style>\n"
            ]
          },
          "metadata": {}
        },
        {
          "output_type": "display_data",
          "data": {
            "text/plain": [
              "<IPython.core.display.HTML object>"
            ],
            "text/html": []
          },
          "metadata": {}
        },
        {
          "output_type": "stream",
          "name": "stdout",
          "text": [
            "('benign', tensor(0), tensor([1.0000e+00, 9.2330e-07]))\n"
          ]
        }
      ],
      "source": [
        "# img = open_image('/content/drive/MyDrive/NNcasestudy/ultrasound breast classification/val/benign/benign (1)-rotated1-rotated1.png')\n",
        "# print(learn.predict(img)[0])\n",
        "\n",
        "\n",
        "from PIL import Image\n",
        "import numpy as np\n",
        "\n",
        "# Define the path to your image\n",
        "img_path = '/content/drive/MyDrive/NNcasestudy/ultrasound breast classification/val/benign/benign (1)-rotated1-rotated1.png'\n",
        "\n",
        "# Open and preprocess the image\n",
        "img = Image.open(img_path)\n",
        "img = img.resize((128, 128))  # Resize to match the input size of your model\n",
        "img = img.convert('RGB')  # Ensure the image is in RGB format\n",
        "\n",
        "# Convert the image to a NumPy array\n",
        "img_array = np.array(img)  # This should automatically have a uint8 data type\n",
        "\n",
        "# Use the learner/model to make a prediction on the image_array\n",
        "prediction = learn.predict(img_array)\n",
        "\n",
        "# Print the prediction\n",
        "print(prediction)\n",
        "\n"
      ]
    },
    {
      "cell_type": "code",
      "source": [
        "# img = open_image('/content/drive/MyDrive/NNcasestudy/ultrasound breast classification/val/malignant/malignant (1)-rotated1-rotated1-rotated1.png')\n",
        "# print(learn.predict(img)[0])\n",
        "\n",
        "\n",
        "from PIL import Image\n",
        "import numpy as np\n",
        "\n",
        "# Define the path to your image\n",
        "img_path = '/content/drive/MyDrive/NNcasestudy/ultrasound breast classification/val/malignant/malignant (1)-rotated1-rotated1-rotated1.png'\n",
        "\n",
        "# Open and preprocess the image\n",
        "img = Image.open(img_path)\n",
        "img = img.resize((128, 128))# Resize to match the input size of your model\n",
        "img = img.convert('RGB')  # Ensure the image is in RGB format\n",
        "\n",
        "# Convert the image to a NumPy array\n",
        "img_array = np.array(img)  # This should automatically have a uint8 data type\n",
        "\n",
        "# Use the learner/model to make a prediction on the image_array\n",
        "prediction = learn.predict(img_array)\n",
        "\n",
        "# Print the prediction\n",
        "print(prediction)"
      ],
      "metadata": {
        "colab": {
          "base_uri": "https://localhost:8080/",
          "height": 34
        },
        "id": "KT54mBBxLMZH",
        "outputId": "7a485eb1-01fb-42b9-ed9d-37f29c0e5b03"
      },
      "execution_count": null,
      "outputs": [
        {
          "output_type": "display_data",
          "data": {
            "text/plain": [
              "<IPython.core.display.HTML object>"
            ],
            "text/html": [
              "\n",
              "<style>\n",
              "    /* Turns off some styling */\n",
              "    progress {\n",
              "        /* gets rid of default border in Firefox and Opera. */\n",
              "        border: none;\n",
              "        /* Needs to be in here for Safari polyfill so background images work as expected. */\n",
              "        background-size: auto;\n",
              "    }\n",
              "    progress:not([value]), progress:not([value])::-webkit-progress-bar {\n",
              "        background: repeating-linear-gradient(45deg, #7e7e7e, #7e7e7e 10px, #5c5c5c 10px, #5c5c5c 20px);\n",
              "    }\n",
              "    .progress-bar-interrupted, .progress-bar-interrupted::-webkit-progress-bar {\n",
              "        background: #F44336;\n",
              "    }\n",
              "</style>\n"
            ]
          },
          "metadata": {}
        },
        {
          "output_type": "display_data",
          "data": {
            "text/plain": [
              "<IPython.core.display.HTML object>"
            ],
            "text/html": []
          },
          "metadata": {}
        },
        {
          "output_type": "stream",
          "name": "stdout",
          "text": [
            "('malignant', tensor(1), tensor([4.2862e-04, 9.9957e-01]))\n"
          ]
        }
      ]
    },
    {
      "cell_type": "markdown",
      "metadata": {
        "id": "lA379lCVyYkN"
      },
      "source": [
        "<a id=\"15\"></a>\n",
        "<font color=\"blue\" size=+2.5><b>5.3 Save and Load Model</b></font>"
      ]
    },
    {
      "cell_type": "code",
      "execution_count": null,
      "metadata": {
        "colab": {
          "base_uri": "https://localhost:8080/",
          "height": 34
        },
        "id": "x4r56LVhoa4m",
        "outputId": "a5a4bf76-3340-4ae3-b31d-cc37163af147"
      },
      "outputs": [
        {
          "output_type": "display_data",
          "data": {
            "text/plain": [
              "<IPython.core.display.HTML object>"
            ],
            "text/html": [
              "\n",
              "<style>\n",
              "    /* Turns off some styling */\n",
              "    progress {\n",
              "        /* gets rid of default border in Firefox and Opera. */\n",
              "        border: none;\n",
              "        /* Needs to be in here for Safari polyfill so background images work as expected. */\n",
              "        background-size: auto;\n",
              "    }\n",
              "    progress:not([value]), progress:not([value])::-webkit-progress-bar {\n",
              "        background: repeating-linear-gradient(45deg, #7e7e7e, #7e7e7e 10px, #5c5c5c 10px, #5c5c5c 20px);\n",
              "    }\n",
              "    .progress-bar-interrupted, .progress-bar-interrupted::-webkit-progress-bar {\n",
              "        background: #F44336;\n",
              "    }\n",
              "</style>\n"
            ]
          },
          "metadata": {}
        },
        {
          "output_type": "display_data",
          "data": {
            "text/plain": [
              "<IPython.core.display.HTML object>"
            ],
            "text/html": []
          },
          "metadata": {}
        },
        {
          "output_type": "stream",
          "name": "stdout",
          "text": [
            "Validation Accuracy: 100.00%\n"
          ]
        }
      ],
      "source": [
        "from fastai.vision.all import *\n",
        "\n",
        "# Define the path to your dataset\n",
        "path = Path('/content/drive/MyDrive/NNcasestudy/ultrasound breast classification/val')\n",
        "\n",
        "# Define a DataBlock for your dataset\n",
        "np.random.seed(40)\n",
        "# data = ImageDataBunch.from_folder(path, train = '.', valid_pct=0.2,\n",
        "#                                   ds_tfms=get_transforms(), size=224,\n",
        "#                                   num_workers=4).normalize(imagenet_stats)\n",
        "\n",
        "imagenet_stats = ([0.485, 0.456, 0.406], [0.229, 0.224, 0.225])\n",
        "\n",
        "data = DataBlock(\n",
        "    blocks=(ImageBlock, CategoryBlock),\n",
        "    get_items=get_image_files,\n",
        "    splitter=RandomSplitter(valid_pct=0.2, seed=42),\n",
        "    get_y=parent_label,\n",
        "    item_tfms=Resize(460),\n",
        "    batch_tfms=[*aug_transforms(size=224), Normalize.from_stats(*imagenet_stats)]\n",
        ")\n",
        "# Create DataLoaders\n",
        "dls = data.dataloaders(path)  # Adjust batch size as needed\n",
        "\n",
        "# Calculate accuracy on the validation set and print it\n",
        "accuracy_value = learn.validate(dl=dls.valid)[1]\n",
        "print(f\"Validation Accuracy: {accuracy_value * 100:.2f}%\")\n",
        "\n",
        "\n",
        "\n"
      ]
    },
    {
      "cell_type": "code",
      "execution_count": null,
      "metadata": {
        "id": "-1HwSpaAmW2d"
      },
      "outputs": [],
      "source": [
        "\n",
        "model_path = '/content/drive/MyDrive/NNcasestudy/model10/trained_model'\n",
        "\n",
        "# Save the model\n",
        "learn.export(model_path)\n"
      ]
    },
    {
      "cell_type": "markdown",
      "metadata": {
        "id": "S0UrYMX4yYkV"
      },
      "source": [
        "<a id=\"16\"></a>\n",
        "<font color=\"blue\" size=+2.5><b>5.4 Sources</b></font>\n",
        "* [Fastai MOOC](https://course.fast.ai/)\n",
        "* [Fastai library](https://docs.fast.ai/)"
      ]
    },
    {
      "cell_type": "markdown",
      "metadata": {
        "id": "WhsFOu66yYkV"
      },
      "source": [
        "<a href=\"#top\" class=\"btn btn-success btn-lg active\" role=\"button\" aria-pressed=\"true\" style=\"color:white\" data-toggle=\"popover\" title=\"go to Colors\">Go to TOP</a>"
      ]
    },
    {
      "cell_type": "code",
      "execution_count": null,
      "metadata": {
        "id": "KFfaKfi7yYkW"
      },
      "outputs": [],
      "source": []
    }
  ],
  "metadata": {
    "accelerator": "GPU",
    "colab": {
      "provenance": [],
      "gpuType": "T4"
    },
    "kernelspec": {
      "display_name": "Python 3",
      "name": "python3"
    },
    "language_info": {
      "codemirror_mode": {
        "name": "ipython",
        "version": 3
      },
      "file_extension": ".py",
      "mimetype": "text/x-python",
      "name": "python",
      "nbconvert_exporter": "python",
      "pygments_lexer": "ipython3",
      "version": "3.7.6"
    },
    "papermill": {
      "duration": 5508.374783,
      "end_time": "2022-03-26T12:39:55.449200",
      "environment_variables": {},
      "exception": null,
      "input_path": "__notebook__.ipynb",
      "output_path": "__notebook__.ipynb",
      "parameters": {},
      "start_time": "2022-03-26T11:08:07.074417",
      "version": "2.1.0"
    }
  },
  "nbformat": 4,
  "nbformat_minor": 0
}